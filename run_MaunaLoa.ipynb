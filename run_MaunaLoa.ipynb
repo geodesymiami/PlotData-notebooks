{
 "cells": [
  {
   "cell_type": "markdown",
   "id": "9de0f1b3-cf07-4744-9b28-08e48dc85238",
   "metadata": {},
   "source": [
    "## Summary Mauna Loa volcano\n",
    "This notebook does multiple calls of `plot_data.py` to visualize the displacement history. For options see `plot_data.py --help`. Modify the `cmd` line to test plot options."
   ]
  },
  {
   "cell_type": "code",
   "execution_count": null,
   "id": "092dde9e-6732-442b-9a17-9b2d09b62080",
   "metadata": {},
   "outputs": [],
   "source": [
    "import os\n",
    "import sys\n",
    "import urllib\n",
    "import glob\n",
    "import matplotlib as mpl\n",
    "import matplotlib.pyplot as plt\n",
    "from matplotlib.backends.backend_pdf import PdfPages\n",
    "from matplotlib.colors import LinearSegmentedColormap\n",
    "from mintpy.utils import readfile, writefile, utils as ut\n",
    "from mintpy.defaults.plot import *\n",
    "from mintpy.objects.gps import search_gps, GPS\n",
    "from mintpy.objects import sensor\n",
    "from mintpy.view import prep_slice, plot_slice\n",
    "from mintpy.cli import view, timeseries2velocity, reference_point, asc_desc2horz_vert, save_gdal, mask\n",
    "import plot_data\n",
    "%load_ext jupyter_ai\n",
    "%load_ext autoreload\n",
    "%autoreload 2"
   ]
  },
  {
   "cell_type": "code",
   "execution_count": null,
   "id": "b44959f5-1d5b-4520-b7de-def5853fa765",
   "metadata": {},
   "outputs": [],
   "source": [
    "%%capture --no-display\n",
    "######################################################\n",
    "##########   TEST  COERUPTIVE   ###################### \n",
    "######################################################\n",
    "\n",
    "cmd = 'plot_data.py MaunaLoaSenDT87/mintpy_5_20 MaunaLoaSenAT124/mintpy_5_20 --period 20221127-20221219 --plot-type velocity --mask-thresh 0.90 --ref-point 19.55,-155.45 --unit m --vlim -8 8 --seismicity' \n",
    "plot_data.main(cmd.split()[1:])"
   ]
  },
  {
   "cell_type": "code",
   "execution_count": null,
   "id": "49fbafb6",
   "metadata": {},
   "outputs": [],
   "source": [
    "%%capture --no-display\n",
    "######################################################\n",
    "################     FINAL      ###################### \n",
    "### Two pre-eruption and two post-eruption periods ###\n",
    "######################################################\n",
    "add_opt = ''\n",
    "common_opt='MaunaLoaSenDT87/mintpy_5_20 MaunaLoaSenAT124/mintpy_5_20 --plot-type velocity --mask-thresh 0.90 --ref-point 19.55,-155.45'\n",
    "add_opt = '--GPS --seismicity --save-gbis'\n",
    "cmd_list = [  \n",
    "                 '--period 20181012-20220821 --vlim -5 5   --GPS-scale-fac 500  --GPS-key-length 5  --GPS-units cm/yr',\n",
    "                 '--period 20220821-20221127 --vlim -25 25 --GPS-scale-fac 1200 --GPS-key-length 20 --GPS-units cm/yr',\n",
    "            #    '--period 20221127-20221219 --vlim -8 8 --unit m',\n",
    "                 '--period 20221231-20230328 --vlim -33 33 --GPS-scale-fac 1200 --GPS-key-length 20 --GPS-units cm/yr',\n",
    "                 '--period 20230328-20231110 --vlim -20 20 --GPS-scale-fac 1200 --GPS-key-length 20 --GPS-units cm/yr'          \n",
    "        ] \n",
    "\n",
    "for tok in cmd_list:\n",
    "    cmd=['plot_data.py ' + common_opt + ' ' + tok + ' ' + add_opt][0]\n",
    "    print(cmd)\n",
    "    print(cmd.split()[1:])\n",
    "    plot_data.main(cmd.split()[1:])"
   ]
  },
  {
   "cell_type": "code",
   "execution_count": null,
   "id": "767f8182-e017-448b-8db3-f7c9d876ce6f",
   "metadata": {},
   "outputs": [],
   "source": [
    "%%capture --no-display\n",
    "######################################################\n",
    "###      2021 precursory earthquake                ###\n",
    "######################################################\n",
    "add_opt = ''\n",
    "common_opt='MaunaLoaSenDT87/mintpy_2_8_step MaunaLoaSenAT124/mintpy_2_8_step --plot-type step --mask-thresh 0.90 --ref-point 19.474,-155.597 --plot-box 19.45:19.475,-155.60:-155.57 --vlim -4 4'\n",
    "add_opt = '--GPS --save-gbis'\n",
    "cmd_list = [  \n",
    "            '--plot-type step --period 20201001-20210306  --vlim -4 4'\n",
    "            ] \n",
    "\n",
    "for tok in cmd_list:\n",
    "    cmd=['plot_data.py ' + common_opt + ' ' + tok + ' ' + add_opt][0]\n",
    "    print(cmd)\n",
    "    print(cmd.split()[1:])\n",
    "    plot_data.main(cmd.split()[1:])\n"
   ]
  },
  {
   "cell_type": "code",
   "execution_count": null,
   "id": "69303f11-7b37-43ad-b35e-2600031a2f9f",
   "metadata": {},
   "outputs": [],
   "source": [
    "# %%capture --no-display\n",
    "# ##################################\n",
    "# ### Three pre-eruption periods ###\n",
    "# ###### DON'T USE #################\n",
    "# ##################################\n",
    "# add_opt = ''\n",
    "# common_opt='MaunaLoaSenDT87/mintpy_5_20  --plot-type shaded-relief --GPS'\n",
    "# cmd_list = [  \n",
    "#                  '--period 20181012-20220901 --GPS-scale-fac 500  --GPS-key-length 5  --GPS-units cm/yr'   ,\n",
    "#                  '--period 20220901-20221015 --GPS-scale-fac 1000 --GPS-key-length 10 --GPS-units cm/yr'   ,\n",
    "#                  '--period 20221015-20221127 --GPS-scale-fac 1000 --GPS-key-length 10 --GPS-units cm/yr'   \n",
    "#    ] \n",
    "    # for tok in cmd_list:\n",
    "#     cmd=['plot_data.py ' + common_opt + ' ' + tok + ' ' + add_opt][0]\n",
    "#     print(cmd)\n",
    "#     print(cmd.split()[1:])\n",
    "#     plot_data.main(cmd.split()[1:])"
   ]
  },
  {
   "cell_type": "code",
   "execution_count": null,
   "id": "1950379b",
   "metadata": {},
   "outputs": [],
   "source": [
    "# %%capture --no-display\n",
    "# ##################################\n",
    "# ### Time series (8 periods) ###\n",
    "# ###### DON'T USE #################\n",
    "# ##################################\n",
    "# cmd_list = [  \n",
    "#                  '--period 20181012-20220901 --GPS-scale-fac 500  --GPS-key-length 5  --GPS-units cm/yr',  \n",
    "#                  '--period 20220901-20221126 --GPS-scale-fac 1200 --GPS-key-length 20 --GPS-units cm/yr',\n",
    "#                  '--period 20221126-20221129 --GPS-scale-fac 3000 --GPS-key-length 50 --GPS-units cm',\n",
    "#             ##   '--period 20221129-20221212 --GPS-scale-fac 1000 --GPS-key-length 20 --GPS-units cm',\n",
    "#             ##   '--period 20221212-20221231 --GPS-scale-fac 2000 --GPS-key-length 20 --GPS-units cm/yr',\n",
    "#                  '--period 20221129-20221231 --GPS-scale-fac 1000 --GPS-key-length 20 --GPS-units cm',\n",
    "#                  '--period 20221231-20230331 --GPS-scale-fac 1200 --GPS-key-length 20 --GPS-units cm/yr',\n",
    "#                  '--period 20230331-20230620 --GPS-scale-fac 1200 --GPS-key-length 20 --GPS-units cm/yr'      \n",
    "#         ]   \n",
    "# # cmd = 'plot_data.py MaunaLoaSenDT87/mintpy_5_20  --plot-type shaded-relief --GPS'\n",
    "# for tok in cmd_list:\n",
    "#     cmd=['plot_data.py ' + common_opt + ' ' + tok + ' ' + add_opt][0]\n",
    "#     print(cmd)\n",
    "#     print(cmd.split()[1:])\n",
    "#     plot_data.main(cmd.split()[1:])"
   ]
  },
  {
   "cell_type": "code",
   "execution_count": null,
   "id": "d47fec9a-b661-42ad-87b5-973eb3a38902",
   "metadata": {},
   "outputs": [],
   "source": [
    "!plot_data.py --help"
   ]
  }
 ],
 "metadata": {
  "kernelspec": {
   "display_name": "Python 3 (ipykernel)",
   "language": "python",
   "name": "python3"
  },
  "language_info": {
   "codemirror_mode": {
    "name": "ipython",
    "version": 3
   },
   "file_extension": ".py",
   "mimetype": "text/x-python",
   "name": "python",
   "nbconvert_exporter": "python",
   "pygments_lexer": "ipython3",
   "version": "3.11.6"
  }
 },
 "nbformat": 4,
 "nbformat_minor": 5
}
