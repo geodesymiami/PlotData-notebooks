{
 "cells": [
  {
   "cell_type": "markdown",
   "id": "4fd7b4d4",
   "metadata": {},
   "source": [
    "## Summary Puna Geothermal Venture area\n",
    " "
   ]
  },
  {
   "cell_type": "code",
   "execution_count": null,
   "id": "d684c31b",
   "metadata": {},
   "outputs": [],
   "source": [
    "import os\n",
    "import sys\n",
    "import plotdata.cli.viewPS as viewPS\n",
    "import plotdata.cli.plot_data as plot_data\n",
    "%load_ext autoreload\n",
    "%autoreload 2"
   ]
  },
  {
   "cell_type": "code",
   "execution_count": null,
   "id": "9fcc18b9",
   "metadata": {},
   "outputs": [],
   "source": [
    "%%capture --no-display\n",
    "os.chdir(os.getenv('SCRATCHDIR'))\n",
    "EXAMPLE=\"\"\"\"\n",
    "plot_data.py HawaiiPunaSenDT87/miaplpy_201809_202401/network_delaunay_4/ HawaiiPunaSenAT124/miaplpy_201809_202401/network_delaunay_4/ --plot-type=velocity --ref-lalo 19.4597,-154.88525 --dem HawaiiPunaSenDT87/DEM/kil_2019dem_wgs84_0.00005.tif --period=20201001-20231231 --subset-lalo 19.457:19.485,-154.911:-154.871 --vlim -3 3\n",
    "plot_data.py HawaiiPunaSenDT87/miaplpy_201809_202401/network_delaunay_4/ HawaiiPunaSenAT124/miaplpy_201809_202401/network_delaunay_4/ --plot-type=horzvert --ref-lalo 19.4597,-154.88525 --dem HawaiiPunaSenDT87/DEM/kil_2019dem_wgs84_0.00005.tif --period=20201001-20231231 --subset-lalo 19.457:19.485,-154.911:-154.871 --vlim -3 3\n",
    "\"\"\"\n",
    "lines = EXAMPLE.splitlines()\n",
    "os.chdir(os.getenv('SCRATCHDIR'))\n",
    "counter = 0\n",
    "for line in lines[1:]:\n",
    "    counter += 1\n",
    "    line = line.strip()\n",
    "    print(f\"Example {counter}:\\n{line}\")\n",
    "    cmd=line.strip().split(' ')\n",
    "    sys.argv = cmd\n",
    "    plot_data.main(sys.argv) "
   ]
  },
  {
   "cell_type": "code",
   "execution_count": null,
   "id": "60ef7b4b",
   "metadata": {},
   "outputs": [],
   "source": [
    "# Zoom-in, radar-coded data plotted on  geographic lcoation\n",
    "os.chdir(os.getenv('SCRATCHDIR') + '/HawaiiPunaSenDT87/miaplpy_201809_202401/network_delaunay_4')\n",
    "cmd = 'viewPS.py S*PS.he5 displacement --ref-lalo 19.49660,-154.88774 --dem ../../../HawaiiPunaSenDT87/DEM/kil_2019dem_wgs84_0.00005.tif --vlim -15 15 --subset-lalo 19.464:19.474,-154.903:-154.892 --noreference'\n",
    "sys.argv = cmd.split(' ')\n",
    "viewPS.main(sys.argv[1:])\n",
    "\n",
    "os.chdir(os.getenv('SCRATCHDIR') + '/HawaiiPunaSenAT124/miaplpy_201809_202401/network_delaunay_4')\n",
    "cmd = 'viewPS.py S*PS.he5 displacement --ref-lalo 19.49660,-154.88774 --dem ../../../HawaiiPunaSenDT87/DEM/kil_2019dem_wgs84_0.00005.tif --vlim -15 15 --subset-lalo 19.464:19.474,-154.903:-154.892 --noreference'\n",
    "sys.argv = cmd.split(' ')\n",
    "viewPS.main(sys.argv[1:])"
   ]
  },
  {
   "cell_type": "code",
   "execution_count": null,
   "id": "cb020279",
   "metadata": {},
   "outputs": [],
   "source": [
    "%%capture --no-display\n",
    "os.chdir(os.getenv('SCRATCHDIR'))\n",
    "EXAMPLE=\"\"\"\"\n",
    "plot_data.py HawaiiPunaSenDT87/miaplpy_201809_202401/network_delaunay_4/ HawaiiPunaSenAT124/miaplpy_201809_202401/network_delaunay_4/ --plot-type=velocity --ref-lalo 19.49660,-154.88774 --dem HawaiiPunaSenDT87/DEM/kil_2019dem_wgs84_0.00005.tif --period=20181001-20201001 --subset-lalo 19.44:19.513,-154.915:-154.83 --noreference --vlim -4 4\n",
    "plot_data.py HawaiiPunaSenDT87/miaplpy_201809_202401/network_delaunay_4/ HawaiiPunaSenAT124/miaplpy_201809_202401/network_delaunay_4/ --plot-type=velocity --ref-lalo 19.49660,-154.88774 --dem HawaiiPunaSenDT87/DEM/kil_2019dem_wgs84_0.00005.tif --period=20201001-20231231 --subset-lalo 19.44:19.513,-154.915:-154.83 --noreference --vlim -4 4\n",
    "plot_data.py HawaiiPunaSenDT87/miaplpy_201809_202401/network_delaunay_4/ HawaiiPunaSenAT124/miaplpy_201809_202401/network_delaunay_4/ --plot-type=horzvert --ref-lalo 19.49660,-154.88774 --dem HawaiiPunaSenDT87/DEM/kil_2019dem_wgs84_0.00005.tif --period=20181001-20201001 --subset-lalo 19.44:19.513,-154.915:-154.83 --noreference --vlim -4 4\n",
    "plot_data.py HawaiiPunaSenDT87/miaplpy_201809_202401/network_delaunay_4/ HawaiiPunaSenAT124/miaplpy_201809_202401/network_delaunay_4/ --plot-type=horzvert --ref-lalo 19.49660,-154.88774 --dem HawaiiPunaSenDT87/DEM/kil_2019dem_wgs84_0.00005.tif --period=20201001-20231231 --subset-lalo 19.44:19.513,-154.915:-154.83 --noreference --vlim -4 4\n",
    "\"\"\"\n",
    "lines = EXAMPLE.splitlines()\n",
    "os.chdir(os.getenv('SCRATCHDIR'))\n",
    "counter = 0\n",
    "for line in lines[1:]:\n",
    "    counter += 1\n",
    "    line = line.strip()\n",
    "    print(f\"Example {counter}:\\n{line}\")\n",
    "    cmd=line.strip().split(' ')\n",
    "    sys.argv = cmd\n",
    "    plot_data.main(sys.argv)   "
   ]
  },
  {
   "cell_type": "code",
   "execution_count": null,
   "id": "1a59f882",
   "metadata": {},
   "outputs": [],
   "source": [
    "%%capture --no-display\n",
    "os.chdir(os.getenv('SCRATCHDIR'))\n",
    "EXAMPLE=\"\"\"\"\n",
    "plot_data.py HawaiiPunaSenDT87/miaplpy_201809_202401/network_delaunay_4/ HawaiiPunaSenAT124/miaplpy_201809_202401/network_delaunay_4/ --plot-type=velocity --ref-lalo 19.49660,-154.88774 --dem HawaiiPunaSenDT87/DEM/kil_2019dem_wgs84_0.00005.tif --period=20181001-20201001 --subset-lalo 19.464:19.473,-154.903:-154.892 --noreference --vlim -4 4\n",
    "plot_data.py HawaiiPunaSenDT87/miaplpy_201809_202401/network_delaunay_4/ HawaiiPunaSenAT124/miaplpy_201809_202401/network_delaunay_4/ --plot-type=velocity --ref-lalo 19.49660,-154.88774 --dem HawaiiPunaSenDT87/DEM/kil_2019dem_wgs84_0.00005.tif --period=20201001-20231231 --subset-lalo 19.464:19.473,-154.903:-154.892 --noreference --vlim -4 4\n",
    "plot_data.py HawaiiPunaSenDT87/miaplpy_201809_202401/network_delaunay_4/ HawaiiPunaSenAT124/miaplpy_201809_202401/network_delaunay_4/ --plot-type=horzvert --ref-lalo 19.49660,-154.88774 --dem HawaiiPunaSenDT87/DEM/kil_2019dem_wgs84_0.00005.tif --period=20181001-20201001 --subset-lalo 19.464:19.473,-154.903:-154.892 --noreference --vlim -4 4\n",
    "plot_data.py HawaiiPunaSenDT87/miaplpy_201809_202401/network_delaunay_4/ HawaiiPunaSenAT124/miaplpy_201809_202401/network_delaunay_4/ --plot-type=horzvert --ref-lalo 19.49660,-154.88774 --dem HawaiiPunaSenDT87/DEM/kil_2019dem_wgs84_0.00005.tif --period=20201001-20231231 --subset-lalo 19.464:19.473,-154.903:-154.892 --noreference --vlim -4 4\n",
    "\"\"\"\n",
    "lines = EXAMPLE.splitlines()\n",
    "os.chdir(os.getenv('SCRATCHDIR'))\n",
    "counter = 0\n",
    "for line in lines[1:]:\n",
    "    counter += 1\n",
    "    line = line.strip()\n",
    "    print(f\"Example {counter}:\\n{line}\")\n",
    "    cmd=line.strip().split(' ')\n",
    "    sys.argv = cmd\n",
    "    plot_data.main(sys.argv)   \n",
    "\n",
    "\n"
   ]
  },
  {
   "cell_type": "code",
   "execution_count": null,
   "id": "b6f9209b",
   "metadata": {},
   "outputs": [],
   "source": [
    "os.chdir(os.getenv('SCRATCHDIR') + '/HawaiiPunaSenDT87/miaplpy_201809_202401/network_delaunay_4')\n",
    "from IPython.display import Image\n",
    "Image(filename='LavaFlowThickness_USGS.jpg')"
   ]
  },
  {
   "cell_type": "code",
   "execution_count": null,
   "id": "813bfcd4",
   "metadata": {},
   "outputs": [],
   "source": [
    "# Descending and ascending: radar-coded data plotted on  geographic lcoation\n",
    "os.chdir(os.getenv('SCRATCHDIR') + '/HawaiiPunaSenDT87/miaplpy_201809_202401/network_delaunay_4')\n",
    "cmd = 'viewPS.py S*PS.he5 displacement --ref-lalo 19.49660,-154.88774 --subset-lalo 19.44:19.513,-154.915:-154.83 --satellite --vlim -15 15 --point-size 10 --figsize 8 8 --dem kil_2019dem_wgs84_0.00005.tif --lalo 19.4656,-154.90304 19.46750,-154.89876 19.472078,-154.8900 19.47679,-154.88127 19.48303,-154.86917'\n",
    "sys.argv = cmd.split(' ')\n",
    "viewPS.main(sys.argv[1:])\n",
    "\n",
    "cmd = 'viewPS.py S*PS.he5 displacement --ref-lalo 19.49660,-154.88774 --subset-lalo 19.44:19.513,-154.915:-154.83 --satellite --vlim -15 15 --point-size 10 --figsize 8 8 --dem ../../../HawaiiPunaSenDT87/DEM/kil_2019dem_wgs84_0.00005.tif --lalo 19.4656,-154.90304 19.46750,-154.89876 19.472078,-154.8900 19.47679,-154.88127 19.48303,-154.86917'\n",
    "sys.argv = cmd.split(' ')\n",
    "viewPS.main(sys.argv[1:])"
   ]
  }
 ],
 "metadata": {
  "kernelspec": {
   "display_name": "Python 3 (ipykernel)",
   "language": "python",
   "name": "python3"
  },
  "language_info": {
   "codemirror_mode": {
    "name": "ipython",
    "version": 3
   },
   "file_extension": ".py",
   "mimetype": "text/x-python",
   "name": "python",
   "nbconvert_exporter": "python",
   "pygments_lexer": "ipython3",
   "version": "3.11.7"
  }
 },
 "nbformat": 4,
 "nbformat_minor": 5
}
